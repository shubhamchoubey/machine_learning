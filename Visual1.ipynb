{
 "cells": [
  {
   "cell_type": "code",
   "execution_count": null,
   "metadata": {},
   "outputs": [],
   "source": []
  },
  {
   "cell_type": "code",
   "execution_count": null,
   "metadata": {},
   "outputs": [],
   "source": []
  },
  {
   "cell_type": "code",
   "execution_count": 1,
   "metadata": {},
   "outputs": [
    {
     "name": "stdout",
     "output_type": "stream",
     "text": [
      "enter data :1,2,3,4,5,6,7,8,9,0\n",
      "5 2\n",
      "2 5\n",
      "which combination you want ?5,2\n",
      "[[1 2]\n",
      " [3 4]\n",
      " [5 6]\n",
      " [7 8]\n",
      " [9 0]]\n"
     ]
    }
   ],
   "source": [
    "#!/usr/bin/env python3\n",
    "\n",
    "import numpy as np\n",
    "user_input=input('enter data :' ).strip().split(',')\n",
    "\n",
    "#print(user_input)\n",
    "length=len(user_input)\n",
    "#print(length)\n",
    "new_input = []\n",
    "for i in user_input:\n",
    "    new_input=new_input + [int(i)]\n",
    "\n",
    "a=0\n",
    "for i in range(2,length):\n",
    "    if length%i==0:\n",
    "        a=a+1   \n",
    "\n",
    "if a==0:\n",
    "\textra_element=[int(input('Enter one more element: '))]\n",
    "\tnew_input = new_input + extra_element\n",
    "\n",
    "length=len(new_input)  \n",
    "\t\n",
    "factor=[]\n",
    "\n",
    "for i in range(2,length):\n",
    "    if length%i==0:\n",
    "       factor=factor+[i]\n",
    "           \n",
    "for i in factor:\n",
    "     combination=length/i\n",
    "     print(int(combination),i)\n",
    "\n",
    "comb_input=(input(\"which combination you want ?\").strip().split(','))\n",
    "\n",
    "array=np.array(new_input)\n",
    "conv_inp=()\n",
    "\n",
    "for i in comb_input:\n",
    "\tconv_inp=conv_inp+(int(i),)\n",
    "user_dem=np.reshape(array,conv_inp)\n",
    "print(user_dem)"
   ]
  },
  {
   "cell_type": "code",
   "execution_count": 3,
   "metadata": {},
   "outputs": [
    {
     "name": "stdout",
     "output_type": "stream",
     "text": [
      "enter another set of data elements you want to compare with:12,14,45,78,56,45,67,78,9,99\n",
      "[[12 14]\n",
      " [45 78]\n",
      " [56 45]\n",
      " [67 78]\n",
      " [ 9 99]]\n"
     ]
    },
    {
     "data": {
      "image/png": "[encoded data removed]",
      "text/plain": [
       "<Figure size 432x288 with 1 Axes>"
      ]
     },
     "metadata": {},
     "output_type": "display_data"
    }
   ],
   "source": [
    "import matplotlib.pyplot as plt\n",
    "import numpy as np\n",
    "\n",
    "user_inp2=input('enter another set of data elements you want to compare with:').strip().split(',')\n",
    "y=np.array(user_inp2)\n",
    "n_inp=[]\n",
    "for i in user_inp2:\n",
    "    n_inp=n_inp + [int(i)]\n",
    "\n",
    "#z=np.reshape(x,(3,2))\n",
    "u=np.reshape(n_inp,conv_inp)\n",
    "print(u)\n",
    "plt.plot(user_dem, u, color='green', marker='o', linestyle='dashed',linewidth=2, markersize=12)\n",
    "plt.show()\n"
   ]
  },
  {
   "cell_type": "code",
   "execution_count": null,
   "metadata": {},
   "outputs": [],
   "source": []
  }
 ],
 "metadata": {
  "kernelspec": {
   "display_name": "Python 3",
   "language": "python",
   "name": "python3"
  },
  "language_info": {
   "codemirror_mode": {
    "name": "ipython",
    "version": 3
   },
   "file_extension": ".py",
   "mimetype": "text/x-python",
   "name": "python",
   "nbconvert_exporter": "python",
   "pygments_lexer": "ipython3",
   "version": "3.5.2"
  }
 },
 "nbformat": 4,
 "nbformat_minor": 2
}
