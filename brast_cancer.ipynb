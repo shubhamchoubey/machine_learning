{
 "cells": [
  {
   "cell_type": "code",
   "execution_count": 39,
   "metadata": {},
   "outputs": [
    {
     "name": "stdout",
     "output_type": "stream",
     "text": [
      "[1 0 1 1 1 0 1 0 1 0 0 1 1 1 0 1 0 1 1 0 0 1 1 0 1 0 0 1 0 1 1 1 0 0 1 0 1\n",
      " 0 1 0 1 1 1 0 0 1 1 0 1 0 0 1 0 1 1 1 1 0 0 1 0 1 0 0 0 0 1 0 1 1 0 0 0 1\n",
      " 1 0 0 0 1 1 0 1 1 1 0 1 1 0 1 0 1 0 1 1 1 0 1 0 1 1 1 1 1 1 1 1 1 1 1 1 1\n",
      " 0 1 1 0 0 0 1 1 1 0 1 1 0 1 1 1 1 1 0 1 0 1 1 0 1 0 1 0 1 1 0 1 1 1 1 1 0\n",
      " 1 1 1 0 0 1 0 1 1 1 1 1 1 1 0 1 0 1 1 0 0 1 1 0 0 1 1 0 0 1 1 1 0 0 0 1 1\n",
      " 1 0 1 1 1 1 0 0 1 0 1 0 1 0 0 1 1 0 0 1 0 1 1 1 1 0 1 0 1 0 0 1 0 1 0 1 0\n",
      " 1 1 1 1 0 0 0 1 1 1 1 0 0 1 1 1 0 1 1 1 1 0 0 1 1 1 1 1 1 0 0 0 1 1 1 0 1\n",
      " 1 1 1 1 0 1 1 0 1 0 0 1 0 1 0 0 1 0 1 1 0 0 1 0 0 0 1 0 0 0 1 1 0 1 1 1 0\n",
      " 1 1 1 1 1 1 1 1 0 1 1 1 0 1 1 1 1 0 0 0 1 1 1 1 0 0 1 0 0 1 1 1 1 0 1 0 1\n",
      " 1 0 0 1 0 1 1 0 1 0 0 0 1 1 1 0 0 1 1 1 1 1 1 1 1 0 0 0 0 0 1 0 1 1 1 1 1\n",
      " 1 0 0 1 1 0 0 0 0 1 1 1 0 1 1 0 1 1 0 1 1 1 1 1 1 1 1 1 0]\n",
      "93.734335839599\n",
      "['malignant' 'benign']\n"
     ]
    }
   ],
   "source": [
    "from sklearn.datasets import load_breast_cancer\n",
    "\n",
    "breast_can=load_breast_cancer()\n",
    "\n",
    "from sklearn.model_selection import train_test_split\n",
    "\n",
    "train_data,test_data,train_target,test_target=train_test_split(breast_can.data,breast_can.target,test_size=0.7)\n",
    "\n",
    "from sklearn import tree\n",
    "\n",
    "algo=tree.DecisionTreeClassifier()\n",
    "\n",
    "training=algo.fit(train_data,train_target)\n",
    "\n",
    "tested_data=training.predict(test_data)\n",
    "\n",
    "print(tested_data)\n",
    "\n",
    "from sklearn.metrics import accuracy_score\n",
    "\n",
    "accuracy=accuracy_score(test_target,tested_data)\n",
    "print(accuracy*100)\n",
    "\n",
    "print(breast_can.target_names)"
   ]
  },
  {
   "cell_type": "raw",
   "metadata": {},
   "source": []
  },
  {
   "cell_type": "code",
   "execution_count": null,
   "metadata": {},
   "outputs": [],
   "source": []
  }
 ],
 "metadata": {
  "kernelspec": {
   "display_name": "Python 3",
   "language": "python",
   "name": "python3"
  },
  "language_info": {
   "codemirror_mode": {
    "name": "ipython",
    "version": 3
   },
   "file_extension": ".py",
   "mimetype": "text/x-python",
   "name": "python",
   "nbconvert_exporter": "python",
   "pygments_lexer": "ipython3",
   "version": "3.5.2"
  }
 },
 "nbformat": 4,
 "nbformat_minor": 2
}
